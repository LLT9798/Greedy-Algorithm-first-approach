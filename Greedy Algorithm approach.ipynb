{
 "cells": [
  {
   "cell_type": "code",
   "execution_count": 35,
   "metadata": {
    "scrolled": true
   },
   "outputs": [
    {
     "data": {
      "text/html": [
       "<div>\n",
       "<style scoped>\n",
       "    .dataframe tbody tr th:only-of-type {\n",
       "        vertical-align: middle;\n",
       "    }\n",
       "\n",
       "    .dataframe tbody tr th {\n",
       "        vertical-align: top;\n",
       "    }\n",
       "\n",
       "    .dataframe thead th {\n",
       "        text-align: right;\n",
       "    }\n",
       "</style>\n",
       "<table border=\"1\" class=\"dataframe\">\n",
       "  <thead>\n",
       "    <tr style=\"text-align: right;\">\n",
       "      <th></th>\n",
       "      <th>A</th>\n",
       "      <th>B</th>\n",
       "      <th>C</th>\n",
       "      <th>D</th>\n",
       "      <th>E</th>\n",
       "      <th>F</th>\n",
       "      <th>G</th>\n",
       "      <th>H</th>\n",
       "      <th>I</th>\n",
       "      <th>J</th>\n",
       "    </tr>\n",
       "  </thead>\n",
       "  <tbody>\n",
       "    <tr>\n",
       "      <th>0</th>\n",
       "      <td>53</td>\n",
       "      <td>82</td>\n",
       "      <td>50</td>\n",
       "      <td>97</td>\n",
       "      <td>44</td>\n",
       "      <td>58</td>\n",
       "      <td>54</td>\n",
       "      <td>19</td>\n",
       "      <td>88</td>\n",
       "      <td>59</td>\n",
       "    </tr>\n",
       "    <tr>\n",
       "      <th>1</th>\n",
       "      <td>30</td>\n",
       "      <td>16</td>\n",
       "      <td>45</td>\n",
       "      <td>27</td>\n",
       "      <td>56</td>\n",
       "      <td>28</td>\n",
       "      <td>23</td>\n",
       "      <td>11</td>\n",
       "      <td>10</td>\n",
       "      <td>89</td>\n",
       "    </tr>\n",
       "    <tr>\n",
       "      <th>2</th>\n",
       "      <td>30</td>\n",
       "      <td>16</td>\n",
       "      <td>45</td>\n",
       "      <td>27</td>\n",
       "      <td>56</td>\n",
       "      <td>28</td>\n",
       "      <td>23</td>\n",
       "      <td>11</td>\n",
       "      <td>10</td>\n",
       "      <td>89</td>\n",
       "    </tr>\n",
       "    <tr>\n",
       "      <th>3</th>\n",
       "      <td>64</td>\n",
       "      <td>35</td>\n",
       "      <td>39</td>\n",
       "      <td>48</td>\n",
       "      <td>43</td>\n",
       "      <td>94</td>\n",
       "      <td>48</td>\n",
       "      <td>96</td>\n",
       "      <td>40</td>\n",
       "      <td>94</td>\n",
       "    </tr>\n",
       "    <tr>\n",
       "      <th>4</th>\n",
       "      <td>36</td>\n",
       "      <td>74</td>\n",
       "      <td>11</td>\n",
       "      <td>88</td>\n",
       "      <td>3</td>\n",
       "      <td>75</td>\n",
       "      <td>85</td>\n",
       "      <td>84</td>\n",
       "      <td>23</td>\n",
       "      <td>22</td>\n",
       "    </tr>\n",
       "    <tr>\n",
       "      <th>5</th>\n",
       "      <td>35</td>\n",
       "      <td>71</td>\n",
       "      <td>59</td>\n",
       "      <td>71</td>\n",
       "      <td>63</td>\n",
       "      <td>79</td>\n",
       "      <td>87</td>\n",
       "      <td>10</td>\n",
       "      <td>58</td>\n",
       "      <td>89</td>\n",
       "    </tr>\n",
       "    <tr>\n",
       "      <th>6</th>\n",
       "      <td>87</td>\n",
       "      <td>71</td>\n",
       "      <td>59</td>\n",
       "      <td>86</td>\n",
       "      <td>7</td>\n",
       "      <td>86</td>\n",
       "      <td>15</td>\n",
       "      <td>95</td>\n",
       "      <td>48</td>\n",
       "      <td>18</td>\n",
       "    </tr>\n",
       "    <tr>\n",
       "      <th>7</th>\n",
       "      <td>42</td>\n",
       "      <td>4</td>\n",
       "      <td>62</td>\n",
       "      <td>84</td>\n",
       "      <td>40</td>\n",
       "      <td>48</td>\n",
       "      <td>84</td>\n",
       "      <td>84</td>\n",
       "      <td>75</td>\n",
       "      <td>60</td>\n",
       "    </tr>\n",
       "    <tr>\n",
       "      <th>8</th>\n",
       "      <td>24</td>\n",
       "      <td>95</td>\n",
       "      <td>68</td>\n",
       "      <td>41</td>\n",
       "      <td>46</td>\n",
       "      <td>68</td>\n",
       "      <td>97</td>\n",
       "      <td>33</td>\n",
       "      <td>43</td>\n",
       "      <td>97</td>\n",
       "    </tr>\n",
       "    <tr>\n",
       "      <th>9</th>\n",
       "      <td>49</td>\n",
       "      <td>69</td>\n",
       "      <td>41</td>\n",
       "      <td>69</td>\n",
       "      <td>33</td>\n",
       "      <td>45</td>\n",
       "      <td>87</td>\n",
       "      <td>36</td>\n",
       "      <td>93</td>\n",
       "      <td>96</td>\n",
       "    </tr>\n",
       "  </tbody>\n",
       "</table>\n",
       "</div>"
      ],
      "text/plain": [
       "    A   B   C   D   E   F   G   H   I   J\n",
       "0  53  82  50  97  44  58  54  19  88  59\n",
       "1  30  16  45  27  56  28  23  11  10  89\n",
       "2  30  16  45  27  56  28  23  11  10  89\n",
       "3  64  35  39  48  43  94  48  96  40  94\n",
       "4  36  74  11  88   3  75  85  84  23  22\n",
       "5  35  71  59  71  63  79  87  10  58  89\n",
       "6  87  71  59  86   7  86  15  95  48  18\n",
       "7  42   4  62  84  40  48  84  84  75  60\n",
       "8  24  95  68  41  46  68  97  33  43  97\n",
       "9  49  69  41  69  33  45  87  36  93  96"
      ]
     },
     "execution_count": 35,
     "metadata": {},
     "output_type": "execute_result"
    }
   ],
   "source": [
    "import pandas as pd\n",
    "import numpy as np\n",
    "import matplotlib.pyplot as plt\n",
    "%matplotlib inline\n",
    "\n",
    "#import data and drop index\n",
    "test = pd.read_csv('AssignmentProblem10by10.csv')\n",
    "del test['Unnamed: 0']\n",
    "test.head(10)"
   ]
  },
  {
   "cell_type": "code",
   "execution_count": 3,
   "metadata": {},
   "outputs": [
    {
     "data": {
      "text/plain": [
       "array([[53, 30, 30, 64, 36, 35, 87, 42, 24, 49],\n",
       "       [82, 16, 16, 35, 74, 71, 71,  4, 95, 69],\n",
       "       [50, 45, 45, 39, 11, 59, 59, 62, 68, 41],\n",
       "       [97, 27, 27, 48, 88, 71, 86, 84, 41, 69],\n",
       "       [44, 56, 56, 43,  3, 63,  7, 40, 46, 33],\n",
       "       [58, 28, 28, 94, 75, 79, 86, 48, 68, 45],\n",
       "       [54, 23, 23, 48, 85, 87, 15, 84, 97, 87],\n",
       "       [19, 11, 11, 96, 84, 10, 95, 84, 33, 36],\n",
       "       [88, 10, 10, 40, 23, 58, 48, 75, 43, 93],\n",
       "       [59, 89, 89, 94, 22, 89, 18, 60, 97, 96]])"
      ]
     },
     "execution_count": 3,
     "metadata": {},
     "output_type": "execute_result"
    }
   ],
   "source": [
    "#transfer data from to array\n",
    "testarray = test.T.values\n",
    "np.array(testarray)"
   ]
  },
  {
   "cell_type": "code",
   "execution_count": 4,
   "metadata": {},
   "outputs": [
    {
     "data": {
      "text/plain": [
       "64"
      ]
     },
     "execution_count": 4,
     "metadata": {},
     "output_type": "execute_result"
    }
   ],
   "source": [
    "testarray[0,3]"
   ]
  },
  {
   "cell_type": "markdown",
   "metadata": {},
   "source": [
    "### According to the Central Limit Theorom , we repeat the test to get the lowest cost.\n",
    "### Since we use Greedy Algorithm to approach the answer, we need to randomly pick up an employee, utilizing different employee combination for each test."
   ]
  },
  {
   "cell_type": "code",
   "execution_count": 181,
   "metadata": {},
   "outputs": [
    {
     "name": "stdout",
     "output_type": "stream",
     "text": [
      "After 100 test, the lowest cost is: 234 ; the highest cost is: 350 ; the average cost is: 269.32\n"
     ]
    },
    {
     "data": {
      "image/png": "[encoded data removed]",
      "text/plain": [
       "<Figure size 432x288 with 1 Axes>"
      ]
     },
     "metadata": {
      "needs_background": "light"
     },
     "output_type": "display_data"
    }
   ],
   "source": [
    "def extract(ID): # extract raw data from array and return task for single employee\n",
    "        single = []\n",
    "        single = testarray[ID,0:10]\n",
    "        return single\n",
    "    \n",
    "\n",
    "total_score = []\n",
    "score = []\n",
    "\n",
    "for test in range(0,100): #we do 100 times to get best cost\n",
    "    task = [0,1,2,3,4,5,6,7,8,9] #all available index list\n",
    "    solution = []\n",
    "\n",
    "    randomlist = random.sample(range(10), 10) #we random pick up an employee(wiht ID)\n",
    "    for ID in randomlist: \n",
    "        single = extract(ID).tolist()\n",
    "        candidate = []\n",
    "        for j in task: #pick available options\n",
    "            candidate.append(single[j]) \n",
    "        best = min(candidate) #get the min cost from available options\n",
    "        single = candidate\n",
    "        task.pop(single.index(best)) #since we only can't reuse an index, del it from available index list\n",
    "        solution.append(best) #build the best cost list of current test\n",
    "    score.append(sum(solution))#append the sum of current best solution\n",
    "\n",
    "\n",
    "plt.plot(score)\n",
    "plt.ylabel('Best Score')\n",
    "print('After', len(score),'test, the lowest cost is:', min(score),'; the highest cost is:', max(score),\n",
    "      '; the average cost is:', abs(sum(score)/len(score)))"
   ]
  },
  {
   "cell_type": "code",
   "execution_count": null,
   "metadata": {},
   "outputs": [],
   "source": []
  }
 ],
 "metadata": {
  "kernelspec": {
   "display_name": "Python 3",
   "language": "python",
   "name": "python3"
  },
  "language_info": {
   "codemirror_mode": {
    "name": "ipython",
    "version": 3
   },
   "file_extension": ".py",
   "mimetype": "text/x-python",
   "name": "python",
   "nbconvert_exporter": "python",
   "pygments_lexer": "ipython3",
   "version": "3.7.3"
  }
 },
 "nbformat": 4,
 "nbformat_minor": 2
}
